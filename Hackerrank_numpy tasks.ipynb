{
 "cells": [
  {
   "cell_type": "markdown",
   "id": "dd5017b0",
   "metadata": {},
   "source": [
    "# Shape and reshape"
   ]
  },
  {
   "cell_type": "code",
   "execution_count": null,
   "id": "ca516e08",
   "metadata": {},
   "outputs": [],
   "source": [
    "import numpy;\n",
    "print(numpy.reshape(numpy.array(list(map(int,input().split()))),(3,3)))\n"
   ]
  },
  {
   "cell_type": "markdown",
   "id": "3b2edd16",
   "metadata": {},
   "source": [
    "# Transpose and flatten"
   ]
  },
  {
   "cell_type": "code",
   "execution_count": null,
   "id": "b9b8282d",
   "metadata": {},
   "outputs": [],
   "source": [
    "import numpy\n",
    "\n",
    "\n",
    "\n",
    "n, m = map(int, input().split())\n",
    "array = numpy.array([input().strip().split() for _ in range(n)], int)\n",
    "print (array.transpose())\n",
    "print (array.flatten())"
   ]
  },
  {
   "cell_type": "markdown",
   "id": "64fb93cd",
   "metadata": {},
   "source": [
    "# concatenate"
   ]
  },
  {
   "cell_type": "code",
   "execution_count": null,
   "id": "748b2447",
   "metadata": {},
   "outputs": [],
   "source": [
    "import numpy as np\n",
    "\n",
    "a, b, c = map(int,input().split())\n",
    "arrA = np.array([input().split() for _ in range(a)],int)\n",
    "arrB = np.array([input().split() for _ in range(b)],int)\n",
    "print(np.concatenate((arrA, arrB), axis = 0))\n"
   ]
  },
  {
   "cell_type": "markdown",
   "id": "f7604755",
   "metadata": {},
   "source": [
    "# Zeros and ones\n"
   ]
  },
  {
   "cell_type": "code",
   "execution_count": null,
   "id": "0e94a759",
   "metadata": {},
   "outputs": [],
   "source": [
    "import numpy\n",
    "\n",
    "nums = tuple(map(int, input().split()))\n",
    "print (numpy.zeros(nums, dtype = numpy.int))\n",
    "print (numpy.ones(nums, dtype = numpy.int))\n"
   ]
  },
  {
   "cell_type": "markdown",
   "id": "4ffde15d",
   "metadata": {},
   "source": [
    "# Eye and identity"
   ]
  },
  {
   "cell_type": "markdown",
   "id": "150dad21",
   "metadata": {},
   "source": [
    " import numpy\n",
    "print(str(numpy.eye(*map(int,input().split()))).replace('1',' 1').replace('0',' 0'))\n"
   ]
  },
  {
   "cell_type": "markdown",
   "id": "3cebf31b",
   "metadata": {},
   "source": [
    "# Array mathematics"
   ]
  },
  {
   "cell_type": "code",
   "execution_count": null,
   "id": "a59d4d62",
   "metadata": {},
   "outputs": [],
   "source": [
    "import numpy as np\n",
    "n, m = map(int, input().split())\n",
    "a, b = (np.array([input().split() for _ in range(n)], dtype=int) for _ in range(2))\n",
    "print(a+b, a-b, a*b, a//b, a%b, a**b, sep='\\n')\n"
   ]
  },
  {
   "cell_type": "markdown",
   "id": "251d444b",
   "metadata": {},
   "source": [
    "# Floor,ceil and rint"
   ]
  },
  {
   "cell_type": "raw",
   "id": "b5f0a347",
   "metadata": {},
   "source": [
    "import numpy\n",
    "\n",
    "numpy.set_printoptions(sign=' ')\n",
    "\n",
    "a = numpy.array(input().split(),float)\n",
    "\n",
    "print(numpy.floor(a))\n",
    "print(numpy.ceil(a))\n",
    "print(numpy.rint(a))"
   ]
  },
  {
   "cell_type": "markdown",
   "id": "9f10c335",
   "metadata": {},
   "source": [
    "# Sum and prod"
   ]
  },
  {
   "cell_type": "code",
   "execution_count": null,
   "id": "20c79611",
   "metadata": {},
   "outputs": [],
   "source": [
    "import numpy\n",
    "\n",
    "N, M = map(int, input().split())\n",
    "A = numpy.array([input().split() for _ in range(N)],int)\n",
    "print(numpy.prod(numpy.sum(A, axis=0), axis=0))\n"
   ]
  },
  {
   "cell_type": "markdown",
   "id": "feb0fa71",
   "metadata": {},
   "source": [
    "# Min and max"
   ]
  },
  {
   "cell_type": "code",
   "execution_count": null,
   "id": "8f3d9188",
   "metadata": {},
   "outputs": [],
   "source": [
    "import numpy\n",
    "\n",
    "arr=[]\n",
    "n,m=map(int,input().split())\n",
    "for row in range(n):\n",
    "    my_arr=list(map(int,input().split()))\n",
    "    arr.append(my_arr)\n",
    "my_array=numpy.array(arr)\n",
    "result=numpy.min(my_array, axis = 1)\n",
    "print(max(result))"
   ]
  },
  {
   "cell_type": "markdown",
   "id": "58c3f3d0",
   "metadata": {},
   "source": [
    "# Mean,var and std"
   ]
  },
  {
   "cell_type": "code",
   "execution_count": null,
   "id": "90bfef52",
   "metadata": {},
   "outputs": [],
   "source": [
    "import numpy\n",
    "\n",
    "array = []\n",
    "n, m = map(int, input().split())\n",
    "for _ in range(n): array.append(list(map(int, input().split())))\n",
    "array = numpy.array(array)\n",
    "print(numpy.mean(array, axis=1))\n",
    "print(numpy.var(array, axis=0))\n",
    "print(round(numpy.std(array), 11))\n"
   ]
  },
  {
   "cell_type": "markdown",
   "id": "de2c22e0",
   "metadata": {},
   "source": [
    "# Dot and cross"
   ]
  },
  {
   "cell_type": "code",
   "execution_count": null,
   "id": "70969ee4",
   "metadata": {},
   "outputs": [],
   "source": [
    "import numpy as np\n",
    "\n",
    "n = int(input())\n",
    "a = np.array([input().split() for _ in range(n)], int)\n",
    "b = np.array([input().split() for _ in range(n)], int)\n",
    "print(np.dot(a, b))\n"
   ]
  },
  {
   "cell_type": "markdown",
   "id": "09097ac5",
   "metadata": {},
   "source": [
    "# Inner and outer"
   ]
  },
  {
   "cell_type": "code",
   "execution_count": null,
   "id": "2db5b736",
   "metadata": {},
   "outputs": [],
   "source": [
    "import numpy as np\n",
    "\n",
    "A = np.array(input().split(), int)\n",
    "B = np.array(input().split(), int)\n",
    "print(np.inner(A,B), np.outer(A,B), sep='\\n')\n"
   ]
  },
  {
   "cell_type": "markdown",
   "id": "ffeeba26",
   "metadata": {},
   "source": [
    "# Polynomials\n"
   ]
  },
  {
   "cell_type": "code",
   "execution_count": null,
   "id": "319b6c72",
   "metadata": {},
   "outputs": [],
   "source": [
    "import numpy\n",
    "\n",
    "a = list(map(float, input().split()))\n",
    "print(numpy.polyval(a, float(input())))\n"
   ]
  },
  {
   "cell_type": "markdown",
   "id": "d3c4b679",
   "metadata": {},
   "source": [
    "# Linear Algebra"
   ]
  },
  {
   "cell_type": "code",
   "execution_count": null,
   "id": "da050b67",
   "metadata": {},
   "outputs": [],
   "source": [
    "import numpy\n",
    "\n",
    "n=int(input())\n",
    "a=numpy.array([input().split() for _ in range(n)],float)\n",
    "numpy.set_printoptions(legacy='1.13') #important\n",
    "print(numpy.linalg.det(a))\n",
    "\n"
   ]
  }
 ],
 "metadata": {
  "kernelspec": {
   "display_name": "Python 3",
   "language": "python",
   "name": "python3"
  },
  "language_info": {
   "codemirror_mode": {
    "name": "ipython",
    "version": 3
   },
   "file_extension": ".py",
   "mimetype": "text/x-python",
   "name": "python",
   "nbconvert_exporter": "python",
   "pygments_lexer": "ipython3",
   "version": "3.8.8"
  }
 },
 "nbformat": 4,
 "nbformat_minor": 5
}
