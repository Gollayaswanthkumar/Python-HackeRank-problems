{
 "cells": [
  {
   "cell_type": "markdown",
   "id": "cceba6a5",
   "metadata": {},
   "source": [
    "## Introduction To Sets"
   ]
  },
  {
   "cell_type": "code",
   "execution_count": 1,
   "id": "5be2bdee",
   "metadata": {},
   "outputs": [],
   "source": [
    "def average(array):\n",
    "    sum_array = sum(set(array))\n",
    "    len_array = len(set(array))\n",
    "    output = sum_array/len_array\n",
    "    return output;"
   ]
  },
  {
   "cell_type": "markdown",
   "id": "62aaffee",
   "metadata": {},
   "source": [
    "## List Comprehensions"
   ]
  },
  {
   "cell_type": "code",
   "execution_count": null,
   "id": "603e13fc",
   "metadata": {},
   "outputs": [],
   "source": [
    "if __name__ == '__main__':\n",
    "    x = int(input())\n",
    "    y = int(input())\n",
    "    z = int(input())\n",
    "    n = int(input())\n",
    "print( [[i,j,k] for i in range( x + 1) for j in range( y + 1) for k in range(z+1) if ( ( i + j + k ) != n )  ])\n",
    "           "
   ]
  },
  {
   "cell_type": "markdown",
   "id": "f7727a70",
   "metadata": {},
   "source": [
    "## Find The Runner - Up Score!"
   ]
  },
  {
   "cell_type": "code",
   "execution_count": null,
   "id": "5a313f7b",
   "metadata": {},
   "outputs": [],
   "source": [
    "if __name__ == '__main__':\n",
    "    n = int(input())\n",
    "    arr = map(int, input().split())\n",
    "    arr=sorted(arr,reverse=True)\n",
    "    for i in range(len(arr)):\n",
    "        if arr[i]==arr[0]:\n",
    "            continue\n",
    "        else:\n",
    "            print(arr[i])  \n",
    "            break"
   ]
  },
  {
   "cell_type": "markdown",
   "id": "d10a2a67",
   "metadata": {},
   "source": [
    "## Nested Lists"
   ]
  },
  {
   "cell_type": "code",
   "execution_count": null,
   "id": "9965f5e1",
   "metadata": {},
   "outputs": [],
   "source": [
    "if __name__ == '__main__':\n",
    "     lis=[]\n",
    "for _ in range(int(input())):\n",
    "        name = input()\n",
    "        score = float(input())\n",
    "        \n",
    "        lis.append([name,score])\n",
    "    \n",
    "lis.sort(key=lambda lis:lis[1])\n",
    "    \n",
    "second_lowest=[]\n",
    "for i in range(len(lis)):\n",
    "        if lis[i][1]!=lis[0][1]:\n",
    "            second_lowest.append(lis[i][0])\n",
    "            for j in range(i+1,len(lis)):\n",
    "                if lis[j][1]==lis[i][1]:\n",
    "                    second_lowest.append(lis[j][0])\n",
    "                else:\n",
    "                    break\n",
    "            break        \n",
    "           \n",
    "                   \n",
    "            \n",
    "        else:\n",
    "            continue\n",
    "second_lowest.sort()\n",
    "for i in second_lowest:\n",
    "        print(i)\n"
   ]
  },
  {
   "cell_type": "markdown",
   "id": "f9953347",
   "metadata": {},
   "source": [
    "## Finding The Percentage"
   ]
  },
  {
   "cell_type": "code",
   "execution_count": null,
   "id": "89e011c6",
   "metadata": {},
   "outputs": [],
   "source": [
    "if __name__ == '__main__':\n",
    "    n = int(input())\n",
    "    student_marks = {}\n",
    "    sonuc = 0\n",
    "    average = float()\n",
    "    for _  in range(n):\n",
    "        name, *line = input().split()\n",
    "        scores = list(map(float, line))\n",
    "        student_marks[name] = scores\n",
    "    query_name = input()\n",
    "    for i in student_marks[query_name]:\n",
    "        sonuc += i\n",
    "    average = sonuc / len(student_marks[query_name])\n",
    "    print(\"%.2f\" %average)\n"
   ]
  },
  {
   "cell_type": "markdown",
   "id": "efc7808a",
   "metadata": {},
   "source": [
    "## Lists"
   ]
  },
  {
   "cell_type": "code",
   "execution_count": null,
   "id": "822eb241",
   "metadata": {},
   "outputs": [],
   "source": [
    "if __name__ == '__main__':\n",
    "    N = int(input())\n",
    "command=[]\n",
    "for i in range(N):\n",
    "        command.append(input().split())\n",
    "\n",
    "result=[]\n",
    "for i in range(N):\n",
    "        if command[i][0]=='insert':\n",
    "            result.insert(int(command[i][1]),int(command[i][2]))\n",
    "        elif command[i][0]=='print':\n",
    "            print(result)\n",
    "        elif command[i][0]=='remove':\n",
    "            result.remove(int(command[i][1]))\n",
    "        elif command[i][0]=='append':\n",
    "            result.append(int(command[i][1]))\n",
    "        elif command[i][0]=='pop':\n",
    "            result.pop()\n",
    "        elif command[i][0]=='sort':\n",
    "            result.sort()\n",
    "        elif command[i][0]=='reverse':\n",
    "            result.reverse()\n"
   ]
  },
  {
   "cell_type": "markdown",
   "id": "0ffd821d",
   "metadata": {},
   "source": [
    "## Tuples"
   ]
  },
  {
   "cell_type": "code",
   "execution_count": null,
   "id": "64891c8a",
   "metadata": {},
   "outputs": [],
   "source": [
    "if __name__ == '__main__':\n",
    "    n = int(raw_input())\n",
    "integer_list = map(int, raw_input().split())\n",
    "t=tuple(integer_list)\n",
    "print(hash(t))\n"
   ]
  },
  {
   "cell_type": "markdown",
   "id": "acd20cbc",
   "metadata": {},
   "source": [
    "## No Idea!"
   ]
  },
  {
   "cell_type": "code",
   "execution_count": null,
   "id": "5b99f1f8",
   "metadata": {},
   "outputs": [],
   "source": [
    "io = input().split()\n",
    "m = int(io[0])\n",
    "n = int(io[1])\n",
    "\n",
    "storage = list()\n",
    "count = 0\n",
    "\n",
    "storage = list(map(int, input().strip().split()))\n",
    "\n",
    "A = set(map(int, input().strip().split()))\n",
    "B = set(map(int, input().strip().split()))\n",
    "\n",
    "for i in storage:\n",
    "    if i in A:\n",
    "        count = count+1\n",
    "    if i in B:\n",
    "        count = count-1\n",
    "\n",
    "print(count)\n"
   ]
  },
  {
   "cell_type": "markdown",
   "id": "005987eb",
   "metadata": {},
   "source": [
    "## Symmetric Difference"
   ]
  },
  {
   "cell_type": "markdown",
   "id": "9383a263",
   "metadata": {},
   "source": [
    "M = int(input())\n",
    "mset = set(map(int, input().split()))\n",
    "N = int(input())\n",
    "nset = set(map(int, input().split()))\n",
    "mdef = mset.difference(nset)\n",
    "ndef = nset.difference(mset)\n",
    "output = mdef.union(ndef)\n",
    "for i in sorted(list(output)):\n",
    "    print(i)"
   ]
  },
  {
   "cell_type": "markdown",
   "id": "09fd5823",
   "metadata": {},
   "source": [
    "## Set.add()"
   ]
  },
  {
   "cell_type": "code",
   "execution_count": null,
   "id": "a2804a42",
   "metadata": {},
   "outputs": [],
   "source": [
    "N = int(input())\n",
    "countries = set()\n",
    "for i in range(N):\n",
    "    countries.add(input())\n",
    "print(len(countries))"
   ]
  },
  {
   "cell_type": "markdown",
   "id": "cf0c992d",
   "metadata": {},
   "source": [
    "## Set.Discord(), .remove() & .pop()"
   ]
  },
  {
   "cell_type": "code",
   "execution_count": null,
   "id": "5465ae9b",
   "metadata": {},
   "outputs": [],
   "source": [
    "n = int(input())\n",
    "s = set(map(int,input().split()))\n",
    "num = int(input())\n",
    "for i in range(num):\n",
    "    ip = input().split()\n",
    "    if ip[0]==\"remove\":\n",
    "        s.remove(int(ip[1]))\n",
    "    elif ip[0]==\"discard\":\n",
    "        s.discard(int(ip[1]))\n",
    "    else :\n",
    "        s.pop()\n",
    "print(sum(list(s)))"
   ]
  },
  {
   "cell_type": "markdown",
   "id": "340b67f0",
   "metadata": {},
   "source": [
    "## Set.Union() Operation"
   ]
  },
  {
   "cell_type": "code",
   "execution_count": null,
   "id": "94d257d6",
   "metadata": {},
   "outputs": [],
   "source": [
    "N1 = int(input())\n",
    "storage1 = set(input().split());\n",
    "N2 = int(input())\n",
    "storage2 = set(input().split());\n",
    "storage3 = storage1.union(storage2)\n",
    "print(len(storage3)"
   ]
  },
  {
   "cell_type": "markdown",
   "id": "f10e78f1",
   "metadata": {},
   "source": [
    "## Set.Intersection()Operation"
   ]
  },
  {
   "cell_type": "code",
   "execution_count": null,
   "id": "18af9f7f",
   "metadata": {},
   "outputs": [],
   "source": [
    "num1 = int(input())\n",
    "setA = set(map(int, input().split()))\n",
    "num2 = int(input())\n",
    "setB = set(map(int, input().split()))\n",
    "print(len(setA.intersection(setB)))"
   ]
  },
  {
   "cell_type": "markdown",
   "id": "272756d2",
   "metadata": {},
   "source": [
    "## Set.Difference() Operation"
   ]
  },
  {
   "cell_type": "code",
   "execution_count": null,
   "id": "79722767",
   "metadata": {},
   "outputs": [],
   "source": [
    "num1 = int(input())\n",
    "setA = set(map(int, input().split()))\n",
    "num2 = int(input())\n",
    "setB = set(map(int, input().split()))\n",
    "print(len(setA.difference(setB)))"
   ]
  },
  {
   "cell_type": "markdown",
   "id": "d2875681",
   "metadata": {},
   "source": [
    "## Set.Symmetric_difference() Operation"
   ]
  },
  {
   "cell_type": "code",
   "execution_count": null,
   "id": "f356b4dc",
   "metadata": {},
   "outputs": [],
   "source": [
    "N1 = int(input())\n",
    "storage1 = set(input().split())\n",
    "N2 = int(input())\n",
    "storage2 = set(input().split())\n",
    "storage3 = storage1.symmetric_difference(storage2)\n",
    "print(len(storage3))"
   ]
  },
  {
   "cell_type": "markdown",
   "id": "fe7bfcd1",
   "metadata": {},
   "source": [
    "## Set Mutations"
   ]
  },
  {
   "cell_type": "code",
   "execution_count": null,
   "id": "b2625970",
   "metadata": {},
   "outputs": [],
   "source": [
    "if __name__ == '__main__':\n",
    "    (_, A) = (int(input()),set(map(int, input().split())))\n",
    "    B = int(input())\n",
    "    for _ in range(B):\n",
    "        (command, newSet) = (input().split()[0],set(map(int, input().split())))\n",
    "        getattr(A, command)(newSet)\n",
    "        print (sum(A))"
   ]
  },
  {
   "cell_type": "markdown",
   "id": "6150571a",
   "metadata": {},
   "source": [
    "## The Captain's room"
   ]
  },
  {
   "cell_type": "code",
   "execution_count": null,
   "id": "2850f93c",
   "metadata": {},
   "outputs": [],
   "source": [
    "k = int(input())\n",
    "rooms = (int(x) for x in input().split(' '))\n",
    "seen = {}\n",
    "for i in rooms:\n",
    "    if not i in seen:\n",
    "        seen[i] = 1\n",
    "    else:\n",
    "        seen[i] += 1\n",
    "for key, val in seen.items():\n",
    "    if val != k:\n",
    "        print(key)"
   ]
  },
  {
   "cell_type": "markdown",
   "id": "ceaebe62",
   "metadata": {},
   "source": [
    "## Check Subset"
   ]
  },
  {
   "cell_type": "code",
   "execution_count": null,
   "id": "cf9a6f25",
   "metadata": {},
   "outputs": [],
   "source": [
    "for i in range(int(input())):\n",
    "    a = int(input()); A = set(input().split()) \n",
    "    b = int(input()); B = set(input().split())\n",
    "    print(A.issubset(B))"
   ]
  },
  {
   "cell_type": "markdown",
   "id": "5045a618",
   "metadata": {},
   "source": [
    "## Check Strict Superset"
   ]
  },
  {
   "cell_type": "code",
   "execution_count": null,
   "id": "720927a2",
   "metadata": {},
   "outputs": [],
   "source": [
    "s = set(input().split())\n",
    "ans = True\n",
    "for i in range(int(input())):\n",
    "    t = set(input().split())\n",
    "    if (s > t) == False:\n",
    "        ans = False\n",
    "        break\n",
    "print(ans)"
   ]
  }
 ],
 "metadata": {
  "kernelspec": {
   "display_name": "Python 3",
   "language": "python",
   "name": "python3"
  },
  "language_info": {
   "codemirror_mode": {
    "name": "ipython",
    "version": 3
   },
   "file_extension": ".py",
   "mimetype": "text/x-python",
   "name": "python",
   "nbconvert_exporter": "python",
   "pygments_lexer": "ipython3",
   "version": "3.8.8"
  }
 },
 "nbformat": 4,
 "nbformat_minor": 5
}
