{
 "cells": [
  {
   "cell_type": "markdown",
   "id": "6606f808",
   "metadata": {},
   "source": [
    "## Polar Coordinates"
   ]
  },
  {
   "cell_type": "code",
   "execution_count": null,
   "id": "1b0f0306",
   "metadata": {},
   "outputs": [],
   "source": [
    "import cmath\n",
    "c = complex(input())\n",
    "print(abs(c))\n",
    "print(cmath.phase(c))"
   ]
  },
  {
   "cell_type": "markdown",
   "id": "54f45759",
   "metadata": {},
   "source": [
    "## Find Angle MBC"
   ]
  },
  {
   "cell_type": "code",
   "execution_count": null,
   "id": "e976145c",
   "metadata": {},
   "outputs": [],
   "source": [
    "import math\n",
    "ab=int(input())\n",
    "bc=int(input())\n",
    "ca=math.hypot(ab,bc)\n",
    "mc=ca/2\n",
    "bca=math.asin(1*ab/ca)\n",
    "bm=math.sqrt((bc**2+mc**2)-(2*bc*mc*math.cos(bca)))\n",
    "mbc=math.asin(math.sin(bca)*mc/bm)\n",
    "print(int(round(math.degrees(mbc),0)),'\\u00B0',sep='')"
   ]
  },
  {
   "cell_type": "markdown",
   "id": "fa21dce0",
   "metadata": {},
   "source": [
    "## Triangel Quest 2"
   ]
  },
  {
   "cell_type": "code",
   "execution_count": null,
   "id": "1b1867d9",
   "metadata": {},
   "outputs": [],
   "source": [
    "for i in range(1,int(input())+1): \n",
    "    print (((10**i - 1)//9)**2)"
   ]
  },
  {
   "cell_type": "markdown",
   "id": "2d6a52bf",
   "metadata": {},
   "source": [
    "## Mod Divmond"
   ]
  },
  {
   "cell_type": "code",
   "execution_count": null,
   "id": "7ac5da87",
   "metadata": {},
   "outputs": [],
   "source": [
    "a = int(input())\n",
    "b = int(input())\n",
    "print (a//b)\n",
    "print (a%b)\n",
    "print (divmod(a,b))"
   ]
  },
  {
   "cell_type": "markdown",
   "id": "4d7ef300",
   "metadata": {},
   "source": [
    "## Power Mod - Power"
   ]
  },
  {
   "cell_type": "code",
   "execution_count": null,
   "id": "02be66a1",
   "metadata": {},
   "outputs": [],
   "source": [
    "a=int(input())\n",
    "b=int(input())\n",
    "m=int(input())\n",
    "print(pow(a,b))\n",
    "print(pow(a,b,m))"
   ]
  },
  {
   "cell_type": "markdown",
   "id": "41f04abd",
   "metadata": {},
   "source": [
    "## Integers Come In All Sizes"
   ]
  },
  {
   "cell_type": "code",
   "execution_count": null,
   "id": "9e21fe0f",
   "metadata": {},
   "outputs": [],
   "source": [
    "a = int(input())\n",
    "b = int(input())\n",
    "c = int(input())\n",
    "d = int(input())\n",
    "print(a**b+c**d)"
   ]
  },
  {
   "cell_type": "markdown",
   "id": "26e7861f",
   "metadata": {},
   "source": [
    "## Triangel Quest"
   ]
  },
  {
   "cell_type": "code",
   "execution_count": null,
   "id": "b9420245",
   "metadata": {},
   "outputs": [],
   "source": [
    "for i in range(1,int(input())):\n",
    "    print(int(i * 10**i / 9))"
   ]
  }
 ],
 "metadata": {
  "kernelspec": {
   "display_name": "Python 3",
   "language": "python",
   "name": "python3"
  },
  "language_info": {
   "codemirror_mode": {
    "name": "ipython",
    "version": 3
   },
   "file_extension": ".py",
   "mimetype": "text/x-python",
   "name": "python",
   "nbconvert_exporter": "python",
   "pygments_lexer": "ipython3",
   "version": "3.8.8"
  }
 },
 "nbformat": 4,
 "nbformat_minor": 5
}
